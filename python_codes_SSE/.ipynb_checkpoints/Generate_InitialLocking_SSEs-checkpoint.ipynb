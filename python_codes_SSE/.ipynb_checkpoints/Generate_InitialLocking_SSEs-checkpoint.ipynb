{
 "cells": [
  {
   "cell_type": "code",
   "execution_count": 10,
   "id": "ed481f77-a7f6-4820-a57c-d23a4b80b600",
   "metadata": {},
   "outputs": [],
   "source": [
    "# Import all the python packages here\n",
    "import pandas as pd\n",
    "import numpy as np"
   ]
  },
  {
   "cell_type": "code",
   "execution_count": 11,
   "id": "6a5dfc23-a86e-4d5a-b9fe-d9041070943c",
   "metadata": {},
   "outputs": [
    {
     "name": "stdout",
     "output_type": "stream",
     "text": [
      "[[-0.23, -0.38, -0.39, -0.31, -0.49, -0.49, -0.35, -0.3, -0.46, -0.46, -0.32], array([15, 16, 17, 15, 16, 17, 18, 15, 16, 17, 18]), array([2, 2, 2, 3, 3, 3, 3, 4, 4, 4, 4])]\n"
     ]
    }
   ],
   "source": [
    "# read the file that include longitude, latitude, phi, node X, node Z, sub-segment X, sub-segment Z\n",
    "# when we use the columns, index starts from 0\n",
    "#NodePhifile = 'Diff1avg242_phi_srd_llpSSE12.gmt'\n",
    "\n",
    "#NodePhifile = 'Diff1avg242_phi_srd_llpAddSlip2.gmt'\n",
    "\n",
    "# for SSE2\n",
    "#NodePhifile = 'Diff3avg242_phi_srd_llpSSE22.gmt'\n",
    "\n",
    "#NodePhifile = 'Diff3avg242_phi_srd_llpAddSlip2.gmt'\n",
    "\n",
    "# for SSE3\n",
    "NodePhifile = 'Diff52avg242_phi_srd_llpSSE32.gmt'\n",
    "\n",
    "#NodePhifile = 'Diff52avg242_phi_srd_llpAddSlip2.gmt'\n",
    "\n",
    "#sse1p1philon = np.loadtxt(NodePhifile, usecols=0, dtype = 'float')\n",
    "#sse1p1philat = np.loadtxt(NodePhifile, usecols=1, dtype = 'float')\n",
    "sse1p1phiphi = np.loadtxt(NodePhifile, usecols=2, dtype = 'float')\n",
    "sse1p1phiNodeX = np.loadtxt(NodePhifile, usecols=3, dtype = 'int')\n",
    "sse1p1phiNodeZ = np.loadtxt(NodePhifile, usecols=4, dtype = 'int')\n",
    "\n",
    "# import text file that includes distinct values of node X, node Z processing based on file NodePhifile\n",
    "#distinctfile = 'Diff1avg242_phi_srd_llpSSE12_nodeindices.gmt'\n",
    "\n",
    "#distinctfile = 'Diff1avg242_phi_srd_llpAddSlip2_uni.gmt'\n",
    "\n",
    "# distinctfile is obtained by using the following command in the terminal\n",
    "# awk '!seen[$4, $5]++' Diff1avg242_phi_srd_llpAddSlip2.gmt > Diff1avg242_phi_srd_llpAddSlip2_uni.gmt\n",
    "# awk '!seen[$4, $5]++' Diff3avg242_phi_srd_llpAddSlip2.gmt > Diff3avg242_phi_srd_llpAddSlip2_uni.gmt\n",
    "# awk '!seen[$4, $5]++' Diff52avg242_phi_srd_llpSSE32.gmt > Diff52avg242_phi_srd_llpSSE32_uni.gmt\n",
    "\n",
    "\n",
    "\n",
    "\n",
    "# for SSE2\n",
    "#distinctfile = 'Diff3avg242_phi_srd_llpSSE22_uni.gmt'\n",
    "\n",
    "#distinctfile = 'Diff3avg242_phi_srd_llpAddSlip2_uni.gmt'\n",
    "\n",
    "# for SSE3\n",
    "distinctfile = 'Diff52avg242_phi_srd_llpSSE32_uni.gmt'\n",
    "\n",
    "#distinctfile = 'Diff52avg242_phi_srd_llpAddSlip2_uni.gmt'\n",
    "\n",
    "disNodeX = np.loadtxt(distinctfile, usecols=3, dtype = 'int')\n",
    "disNodeZ = np.loadtxt(distinctfile, usecols=4, dtype = 'int')\n",
    "\n",
    "# t marks the index for each individual set of nodes\n",
    "\n",
    "avgphis = []\n",
    "for nx, nz in zip(disNodeX, disNodeZ):\n",
    "    # avgphi marks the average value of all the phis corressponding to the same disNodeX, disNodeZ\n",
    "    avgphi = 0\n",
    "    # n marks the number of phis calculated in total\n",
    "    n = 0\n",
    "    for i, j in zip(range(len(sse1p1phiNodeX)), range(len(sse1p1phiNodeZ))):\n",
    "        if sse1p1phiNodeX[i] == nx and sse1p1phiNodeZ[j] == nz:\n",
    "            #print(sse1p1phiphi[i])\n",
    "            avgphi += sse1p1phiphi[i]\n",
    "            n += 1\n",
    "    avgphis.append(round(avgphi/n, 2))\n",
    "\n",
    "newphienodes = [avgphis, disNodeX, disNodeZ]\n",
    "#print(avgphis, disNodeX, disNodeZ)\n",
    "print(newphienodes)\n",
    "    \n",
    "# Then we use the calculated avgphis for corresponding disNodeX, disNodeZ to write into a new text file\n",
    "\n",
    "#newNodephifile = 'Diff1avg242_phi_srd_llpSSE12_newphis.gmt'\n",
    "\n",
    "# newNodepthifile stores the information phi value at specific node X and node Z to fill in\n",
    "# the TDEFNODE input file nng, nv to conduct forward model\n",
    "#newNodephifile = 'Diff1avg242_phi_srd_llpAddSlip2_newphis.gmt'\n",
    "\n",
    "# for SSE2\n",
    "#newNodephifile = 'Diff3avg242_phi_srd_llpSSE22_newphis.gmt'\n",
    "#newNodephifile = 'Diff3avg242_phi_srd_llpAddSlip2_newphis.gmt'\n",
    "\n",
    "# for SSE3\n",
    "newNodephifile = 'Diff52avg242_phi_srd_llpSSE32_newphis.gmt'\n",
    "#newNodephifile = 'Diff52avg242_phi_srd_llpAddSlip2_newphis.gmt'\n",
    "\n",
    "np.savetxt(newNodephifile, newphienodes)\n",
    "\n",
    "\n",
    "\n"
   ]
  },
  {
   "cell_type": "code",
   "execution_count": 4,
   "id": "9cd43596",
   "metadata": {},
   "outputs": [
    {
     "data": {
      "text/plain": [
       "71"
      ]
     },
     "execution_count": 4,
     "metadata": {},
     "output_type": "execute_result"
    }
   ],
   "source": [
    "len(disNodeX)"
   ]
  },
  {
   "cell_type": "code",
   "execution_count": null,
   "id": "b9f701d7-2887-4c5a-a8ba-946225c1a582",
   "metadata": {},
   "outputs": [],
   "source": [
    "# plot calculated GPS velocity after TDEFNODE forward modeling\n"
   ]
  },
  {
   "cell_type": "code",
   "execution_count": null,
   "id": "3584d590-b969-41f1-9882-bf39139bf681",
   "metadata": {},
   "outputs": [],
   "source": []
  }
 ],
 "metadata": {
  "kernelspec": {
   "display_name": "Python 3 (ipykernel)",
   "language": "python",
   "name": "python3"
  },
  "language_info": {
   "codemirror_mode": {
    "name": "ipython",
    "version": 3
   },
   "file_extension": ".py",
   "mimetype": "text/x-python",
   "name": "python",
   "nbconvert_exporter": "python",
   "pygments_lexer": "ipython3",
   "version": "3.8.8"
  }
 },
 "nbformat": 4,
 "nbformat_minor": 5
}
