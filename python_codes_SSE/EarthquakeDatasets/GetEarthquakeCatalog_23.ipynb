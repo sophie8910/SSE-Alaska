{
 "cells": [
  {
   "cell_type": "markdown",
   "id": "6c1574ca-4063-49fa-96a0-9aad6ffe4314",
   "metadata": {},
   "source": [
    "# Aim of This Notebook\n",
    "\n",
    "Since my velocity paper is focusing on GPS data from 1995 to 2018, the latest version of earthquakes downloaded is till 2014.87. thus we need to download earthquake data from 2014.87 to 2018. \n",
    "\n",
    "especially we need focal mechanism solutions to conduct Coulomb stress analysis\n"
   ]
  },
  {
   "cell_type": "code",
   "execution_count": 1,
   "id": "4a2aea98-d980-4ba5-beca-d79eb977de70",
   "metadata": {},
   "outputs": [],
   "source": [
    "## Important all necessary phython packages\n"
   ]
  },
  {
   "cell_type": "code",
   "execution_count": null,
   "id": "1ee03115-9d52-4844-998b-7ad5a6fbd015",
   "metadata": {},
   "outputs": [],
   "source": []
  },
  {
   "cell_type": "code",
   "execution_count": null,
   "id": "18b959b2-2bf2-46a4-8381-671f95d5ccb6",
   "metadata": {},
   "outputs": [],
   "source": []
  },
  {
   "cell_type": "code",
   "execution_count": null,
   "id": "c38ce691-4bf9-4f77-b70c-8bcfe6ec9cbc",
   "metadata": {},
   "outputs": [],
   "source": []
  },
  {
   "cell_type": "code",
   "execution_count": null,
   "id": "8910add9-fc5d-4c99-9400-2caf47a1e7c7",
   "metadata": {},
   "outputs": [],
   "source": []
  },
  {
   "cell_type": "code",
   "execution_count": null,
   "id": "7a642e67-80b6-447b-8b0a-ddbd8174f4fa",
   "metadata": {},
   "outputs": [],
   "source": []
  }
 ],
 "metadata": {
  "kernelspec": {
   "display_name": "Python 3 (ipykernel)",
   "language": "python",
   "name": "python3"
  },
  "language_info": {
   "codemirror_mode": {
    "name": "ipython",
    "version": 3
   },
   "file_extension": ".py",
   "mimetype": "text/x-python",
   "name": "python",
   "nbconvert_exporter": "python",
   "pygments_lexer": "ipython3",
   "version": "3.11.3"
  }
 },
 "nbformat": 4,
 "nbformat_minor": 5
}
