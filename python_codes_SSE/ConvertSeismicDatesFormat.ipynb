{
 "cells": [
  {
   "cell_type": "code",
   "execution_count": 2,
   "id": "6a557ea7",
   "metadata": {},
   "outputs": [],
   "source": [
    "# import necessary python packages for convertion\n",
    "import pandas as pd\n",
    "import numpy as np\n",
    "from datetime import datetime\n"
   ]
  },
  {
   "cell_type": "code",
   "execution_count": 20,
   "id": "512fc46f",
   "metadata": {},
   "outputs": [],
   "source": [
    "# design a function to do the conversion\n",
    "def convert_to_decimal_date(input_date):\n",
    "    # Input:\n",
    "    # input_date: on single date\n",
    "    \n",
    "    # Output:\n",
    "    # decimal_date: decimal dates of the input single date with two decimal digits\n",
    "    \n",
    "    # Parse the input date string\n",
    "    try:\n",
    "        # Try the first date format\n",
    "        date_format = \"%m/%d/%Y (%j) %I:%M:%S.%f\"\n",
    "        input_datetime = datetime.strptime(input_date, date_format)\n",
    "        \n",
    "    except ValueError:\n",
    "        \n",
    "        # If the first format fails, try the second date format\n",
    "        date_format = \"%m/%d/%Y (%j) %H:%M:%S.%f\"\n",
    "        input_datetime = datetime.strptime(input_date, date_format)\n",
    "    \n",
    "    # convert to decimal date\n",
    "    decimal_date = input_datetime.year + (input_datetime.timetuple().tm_yday - 1)/365.0\n",
    "    \n",
    "    # Round to two decimal places\n",
    "    decimal_date = round(decimal_date, 2)\n",
    "    \n",
    "    return decimal_date\n",
    "\n"
   ]
  },
  {
   "cell_type": "code",
   "execution_count": 21,
   "id": "a8947467",
   "metadata": {},
   "outputs": [
    {
     "name": "stdout",
     "output_type": "stream",
     "text": [
      "Conversion Completed! Results saved to  Seis2015_2020.gmt\n"
     ]
    }
   ],
   "source": [
    "# Use the defined function \"convert_to_decimal_date\" to convert all the dates into decimal dates. \n",
    "orgdatefile = 'catalog_2015_2020.dat'\n",
    "decimaldatefile = 'Seis2015_2020.gmt'\n",
    "\n",
    "# open input and output files\n",
    "with open(orgdatefile,'r') as input_file, open(decimaldatefile,'w') as output_file:\n",
    "    # write header to output file\n",
    "    # output_file.write(\"lon lat depth mag decimal_date\\n\")\n",
    "    \n",
    "    # skip header in input file\n",
    "    #next(input_file)\n",
    "    \n",
    "    # process each line in the input file\n",
    "    for line in input_file:\n",
    "        \n",
    "        # Extract the time_str(first and third characters)\n",
    "        time_str = \" \".join(line.split()[:3]).strip()\n",
    "        \n",
    "        #print(f\"{time_str}\")\n",
    "        \n",
    "        # split the rest line into columns\n",
    "        columns = line.strip().split()\n",
    "        \n",
    "        #print(f\"${columns[3:]}\")\n",
    "        \n",
    "        # check if the expected number of columns is present\n",
    "        if len(columns) == 7:\n",
    "            # Extract columns\n",
    "            lat,lon,depth,mag = columns[3:]\n",
    "        \n",
    "            # Convert time to decimal date using the function convert_to_decimal_date\n",
    "            decimal_date = convert_to_decimal_date(time_str)\n",
    "        \n",
    "            # write the processed data to the output file\n",
    "            output_file.write(f\"{lon} {lat} {depth} {mag} {decimal_date}\\n\")\n",
    "            \n",
    "        else:\n",
    "            print(f\"Skiiping line: {line.strip()}. Incorrect number of columns.\")\n",
    "\n",
    "print(\"Conversion Completed! Results saved to \", decimaldatefile)"
   ]
  },
  {
   "cell_type": "code",
   "execution_count": 23,
   "id": "dae97372",
   "metadata": {},
   "outputs": [
    {
     "name": "stdout",
     "output_type": "stream",
     "text": [
      "Combination completed. Results saved to: Seis1996-2020.gmt\n"
     ]
    }
   ],
   "source": [
    "### Next, we will combine earthquakes before 2015 and after 2015 to generate a new file including all the seismic data\n",
    "# from 1992 to 2020\n",
    "seisfile1 = 'Figure2a_subset_1996-2014.87.gmt'\n",
    "seisfile2 = decimaldatefile\n",
    "\n",
    "# \n",
    "newseisfile = 'Seis1996-2020.gmt'\n",
    "\n",
    "# read data from the first file\n",
    "data_from_file1 = []\n",
    "with open(seisfile1,'r') as file1:\n",
    "    # skip header\n",
    "    # next(file1)\n",
    "    \n",
    "    for line in file1:\n",
    "        data_from_file1.append(line.strip())\n",
    "        \n",
    "# Read data from the second file\n",
    "data_from_file2 = []\n",
    "with open(seisfile2, 'r') as file2:\n",
    "    # Skip header\n",
    "    next(file2)\n",
    "    for line in file2:\n",
    "        data_from_file2.append(line.strip())\n",
    "        \n",
    "# Combine data from both files\n",
    "combined_data = data_from_file1 + data_from_file2\n",
    "\n",
    "# Write combined data to a new file\n",
    "with open(newseisfile, 'w') as output_file:\n",
    "    # Write header to the output file\n",
    "    #output_file.write(\"lon lat depth mag decimal_date\\n\")\n",
    "    \n",
    "    # Write combined data to the output file\n",
    "    for line in combined_data:\n",
    "        output_file.write(line + '\\n')\n",
    "\n",
    "print(\"Combination completed. Results saved to:\", newseisfile)\n"
   ]
  },
  {
   "cell_type": "code",
   "execution_count": null,
   "id": "5d30c182",
   "metadata": {},
   "outputs": [],
   "source": []
  },
  {
   "cell_type": "code",
   "execution_count": null,
   "id": "b61a0073",
   "metadata": {},
   "outputs": [],
   "source": []
  },
  {
   "cell_type": "code",
   "execution_count": null,
   "id": "594dfc51",
   "metadata": {},
   "outputs": [],
   "source": []
  },
  {
   "cell_type": "code",
   "execution_count": null,
   "id": "5f0b7e70",
   "metadata": {},
   "outputs": [],
   "source": []
  },
  {
   "cell_type": "code",
   "execution_count": null,
   "id": "cf1d0b07",
   "metadata": {},
   "outputs": [],
   "source": []
  },
  {
   "cell_type": "code",
   "execution_count": null,
   "id": "5db3179e",
   "metadata": {},
   "outputs": [],
   "source": []
  }
 ],
 "metadata": {
  "kernelspec": {
   "display_name": "Python 3 (ipykernel)",
   "language": "python",
   "name": "python3"
  },
  "language_info": {
   "codemirror_mode": {
    "name": "ipython",
    "version": 3
   },
   "file_extension": ".py",
   "mimetype": "text/x-python",
   "name": "python",
   "nbconvert_exporter": "python",
   "pygments_lexer": "ipython3",
   "version": "3.8.8"
  }
 },
 "nbformat": 4,
 "nbformat_minor": 5
}
