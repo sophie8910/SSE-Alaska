{
 "cells": [
  {
   "cell_type": "markdown",
   "id": "02f766f8-c7c1-4d12-9c7d-82281e5deac7",
   "metadata": {},
   "source": [
    "# This example will serve as a tutorial to visualizing geospatial data in python\n",
    "\n",
    "geospatial data, useful packages and efficient visualization\n",
    "\n",
    "## geopandas\n",
    "    extends Pandas to allow spatial operations on geometric types\n",
    "## geoplot\n",
    "    a high-level geospatial plotting library"
   ]
  },
  {
   "cell_type": "code",
   "execution_count": 5,
   "id": "dfcf780e-c8f8-4eee-a574-73516b3a00a5",
   "metadata": {},
   "outputs": [
    {
     "ename": "ModuleNotFoundError",
     "evalue": "No module named 'geoplot'",
     "output_type": "error",
     "traceback": [
      "\u001b[0;31m---------------------------------------------------------------------------\u001b[0m",
      "\u001b[0;31mModuleNotFoundError\u001b[0m                       Traceback (most recent call last)",
      "Cell \u001b[0;32mIn[5], line 2\u001b[0m\n\u001b[1;32m      1\u001b[0m \u001b[38;5;66;03m# load all the useful python library packages\u001b[39;00m\n\u001b[0;32m----> 2\u001b[0m \u001b[38;5;28;01mimport\u001b[39;00m \u001b[38;5;21;01mgeoplot\u001b[39;00m \u001b[38;5;28;01mas\u001b[39;00m \u001b[38;5;21;01mgplt\u001b[39;00m\n\u001b[1;32m      3\u001b[0m \u001b[38;5;28;01mimport\u001b[39;00m \u001b[38;5;21;01mgeopandas\u001b[39;00m \u001b[38;5;28;01mas\u001b[39;00m \u001b[38;5;21;01mgpd\u001b[39;00m\n\u001b[1;32m      4\u001b[0m \u001b[38;5;66;03m# crs -> projection\u001b[39;00m\n",
      "\u001b[0;31mModuleNotFoundError\u001b[0m: No module named 'geoplot'"
     ]
    }
   ],
   "source": [
    "# load all the useful python library packages\n",
    "import geoplot as gplt\n",
    "import geopandas as gpd\n",
    "# crs -> projection\n",
    "import geoplot.crs as gcrs\n",
    "# Imageio is a Python library that provides an easy interface to read \n",
    "# and write a wide range of image data, including animated images, volumetric data, and scientific formats\n",
    "import imageio\n",
    "import pandas as pd\n",
    "import pathlib\n",
    "import matplotlib.animation as animation\n",
    "import matplotlib.pyplot as plt\n",
    "import mapclassify as mc\n",
    "import numpy as np\n",
    "\n",
    "%matplotlib inline\n",
    "\n",
    "# set up initial max values for rows and columns in the plot display setting\n",
    "pd.options.display.max_row = 500\n",
    "pd.options.display.max_columns = 500\n",
    "\n"
   ]
  },
  {
   "cell_type": "code",
   "execution_count": 4,
   "id": "e27ad497-3290-4e35-8246-87f2e787a62a",
   "metadata": {},
   "outputs": [
    {
     "ename": "SyntaxError",
     "evalue": "invalid syntax (2862676802.py, line 2)",
     "output_type": "error",
     "traceback": [
      "\u001b[0;36m  Cell \u001b[0;32mIn[4], line 2\u001b[0;36m\u001b[0m\n\u001b[0;31m    pip install geoplot\u001b[0m\n\u001b[0m        ^\u001b[0m\n\u001b[0;31mSyntaxError\u001b[0m\u001b[0;31m:\u001b[0m invalid syntax\n"
     ]
    }
   ],
   "source": [
    "# If there is module installed before, open a terminal, then install it. \n",
    "# pip install geoplot"
   ]
  },
  {
   "cell_type": "code",
   "execution_count": null,
   "id": "66880bab-e241-4e1e-b6ba-dc07ebe88a60",
   "metadata": {},
   "outputs": [],
   "source": []
  },
  {
   "cell_type": "code",
   "execution_count": null,
   "id": "200deb65-afb2-4f5d-b2ba-d0c2dccfa988",
   "metadata": {},
   "outputs": [],
   "source": []
  }
 ],
 "metadata": {
  "kernelspec": {
   "display_name": "Python 3 (ipykernel)",
   "language": "python",
   "name": "python3"
  },
  "language_info": {
   "codemirror_mode": {
    "name": "ipython",
    "version": 3
   },
   "file_extension": ".py",
   "mimetype": "text/x-python",
   "name": "python",
   "nbconvert_exporter": "python",
   "pygments_lexer": "ipython3",
   "version": "3.11.3"
  }
 },
 "nbformat": 4,
 "nbformat_minor": 5
}
